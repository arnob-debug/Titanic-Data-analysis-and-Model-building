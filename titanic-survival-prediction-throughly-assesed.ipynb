{
 "cells": [
  {
   "cell_type": "markdown",
   "metadata": {},
   "source": [
    "## 1️⃣ **Importing Libraries and Dataset**"
   ]
  },
  {
   "cell_type": "code",
   "execution_count": null,
   "metadata": {
    "execution": {
     "iopub.execute_input": "2025-04-05T09:36:18.956911Z",
     "iopub.status.busy": "2025-04-05T09:36:18.956157Z",
     "iopub.status.idle": "2025-04-05T09:36:18.962932Z",
     "shell.execute_reply": "2025-04-05T09:36:18.961900Z",
     "shell.execute_reply.started": "2025-04-05T09:36:18.956867Z"
    }
   },
   "outputs": [],
   "source": [
    "import numpy as np\n",
    "import pandas as pd\n",
    "import matplotlib.pyplot as plt\n",
    "import seaborn as sns\n",
    "from sklearn.preprocessing import OneHotEncoder\n",
    "from sklearn.model_selection import train_test_split\n",
    "from sklearn.preprocessing import StandardScaler\n",
    "import warnings\n",
    "\n",
    "warnings.filterwarnings(\"ignore\")"
   ]
  },
  {
   "cell_type": "markdown",
   "metadata": {},
   "source": [
    "## 2️⃣ **Reading Data**"
   ]
  },
  {
   "cell_type": "code",
   "execution_count": null,
   "metadata": {
    "execution": {
     "iopub.execute_input": "2025-04-05T09:36:19.291560Z",
     "iopub.status.busy": "2025-04-05T09:36:19.291189Z",
     "iopub.status.idle": "2025-04-05T09:36:19.326087Z",
     "shell.execute_reply": "2025-04-05T09:36:19.325022Z",
     "shell.execute_reply.started": "2025-04-05T09:36:19.291529Z"
    }
   },
   "outputs": [],
   "source": [
    "data_train=pd.read_csv('/kaggle/input/titanic/train.csv')\n",
    "data_test=pd.read_csv('/kaggle/input/titanic/test.csv')\n",
    "data = pd.concat([data_train, data_test], axis=0)\n",
    "data.head()"
   ]
  },
  {
   "cell_type": "markdown",
   "metadata": {},
   "source": [
    "## 3️⃣ **Data PreProcessing**  "
   ]
  },
  {
   "cell_type": "code",
   "execution_count": null,
   "metadata": {
    "execution": {
     "iopub.execute_input": "2025-04-05T09:36:19.595801Z",
     "iopub.status.busy": "2025-04-05T09:36:19.595407Z",
     "iopub.status.idle": "2025-04-05T09:36:19.613924Z",
     "shell.execute_reply": "2025-04-05T09:36:19.612925Z",
     "shell.execute_reply.started": "2025-04-05T09:36:19.595755Z"
    }
   },
   "outputs": [],
   "source": [
    "data['Title'] = data['Name'].str.extract(r'([A-Za-z]+)\\.')\n",
    "\n",
    "title_class_numeric = {\n",
    "    'Don': 5, 'Sir': 5, 'Lady': 5, 'Countess': 5, 'Jonkheer': 5,  # Nobility\n",
    "    'Major': 4, 'Col': 4, 'Capt': 4,                              # Military\n",
    "    'Rev': 3,                                                    # Clergy\n",
    "    'Dr': 2,                                                     # Professional\n",
    "    'Mr': 1, 'Mrs': 1, 'Miss': 1, 'Master': 1, 'Ms': 1, 'Mme': 1, 'Mlle': 1,  # Commoner\n",
    "}\n",
    "\n",
    "data['TitleClass'] = data['Title'].map(title_class_numeric)\n",
    "data['TitleClass'] = data['TitleClass'].fillna(0)\n",
    "data['TitleClass'] = data['TitleClass'].astype(float)\n",
    "\n",
    "print(data[['Title', 'TitleClass']])\n"
   ]
  },
  {
   "cell_type": "markdown",
   "metadata": {},
   "source": [
    "#### 3.****1 coding for plot****"
   ]
  },
  {
   "cell_type": "code",
   "execution_count": null,
   "metadata": {
    "execution": {
     "iopub.execute_input": "2025-04-05T09:36:19.908839Z",
     "iopub.status.busy": "2025-04-05T09:36:19.908428Z",
     "iopub.status.idle": "2025-04-05T09:36:19.914862Z",
     "shell.execute_reply": "2025-04-05T09:36:19.913569Z",
     "shell.execute_reply.started": "2025-04-05T09:36:19.908805Z"
    }
   },
   "outputs": [],
   "source": [
    "def graph(i):\n",
    "    sns.histplot(data[i], kde=True, color='skyblue')\n",
    "    plt.xlabel(i)\n",
    "    plt.xticks(rotation=90)\n",
    "    plt.ylabel('Frequency')\n",
    "    plt.legend()\n",
    "    plt.show()\n",
    "    sns.barplot(x=i, y='Survived', data=data, color='skyblue')\n",
    "    plt.xlabel(i)\n",
    "    plt.ylabel('Survival Rate')\n",
    "    plt.xticks(rotation=90)\n",
    "    plt.show()"
   ]
  },
  {
   "cell_type": "markdown",
   "metadata": {},
   "source": [
    "#### 3.****2 checking relation between Survival and Title****"
   ]
  },
  {
   "cell_type": "code",
   "execution_count": null,
   "metadata": {
    "execution": {
     "iopub.execute_input": "2025-04-05T09:36:22.613287Z",
     "iopub.status.busy": "2025-04-05T09:36:22.612944Z",
     "iopub.status.idle": "2025-04-05T09:36:23.549328Z",
     "shell.execute_reply": "2025-04-05T09:36:23.548224Z",
     "shell.execute_reply.started": "2025-04-05T09:36:22.613262Z"
    }
   },
   "outputs": [],
   "source": [
    "graph('Title')"
   ]
  },
  {
   "cell_type": "code",
   "execution_count": null,
   "metadata": {
    "execution": {
     "iopub.execute_input": "2025-04-05T09:36:23.551027Z",
     "iopub.status.busy": "2025-04-05T09:36:23.550719Z",
     "iopub.status.idle": "2025-04-05T09:36:23.564660Z",
     "shell.execute_reply": "2025-04-05T09:36:23.563787Z",
     "shell.execute_reply.started": "2025-04-05T09:36:23.551003Z"
    }
   },
   "outputs": [],
   "source": [
    "data['TicketNumber'] = data['Ticket'].apply(lambda x: ''.join(filter(str.isdigit, x)) if isinstance(x, str) else '0') \n",
    "data['TicketNumber'] = data['TicketNumber'].replace('', np.nan)\n",
    "\n",
    "data['TicketNumber'] = data['TicketNumber'].astype(float) \n",
    "\n",
    "print(data[['Ticket', 'TicketNumber']])\n"
   ]
  },
  {
   "cell_type": "code",
   "execution_count": null,
   "metadata": {
    "execution": {
     "iopub.execute_input": "2025-04-05T09:36:23.566796Z",
     "iopub.status.busy": "2025-04-05T09:36:23.566422Z",
     "iopub.status.idle": "2025-04-05T09:36:23.589724Z",
     "shell.execute_reply": "2025-04-05T09:36:23.588698Z",
     "shell.execute_reply.started": "2025-04-05T09:36:23.566768Z"
    }
   },
   "outputs": [],
   "source": [
    "data=data.drop(columns=['Name'])"
   ]
  },
  {
   "cell_type": "code",
   "execution_count": null,
   "metadata": {
    "execution": {
     "iopub.execute_input": "2025-04-05T09:36:23.591387Z",
     "iopub.status.busy": "2025-04-05T09:36:23.591001Z",
     "iopub.status.idle": "2025-04-05T09:36:23.608926Z",
     "shell.execute_reply": "2025-04-05T09:36:23.607835Z",
     "shell.execute_reply.started": "2025-04-05T09:36:23.591350Z"
    }
   },
   "outputs": [],
   "source": [
    "data['FamilySize'] = data['SibSp'] + data['Parch'] + 1"
   ]
  },
  {
   "cell_type": "markdown",
   "metadata": {},
   "source": [
    "#### 3.****3 checking relation between Survival and FamilySize****"
   ]
  },
  {
   "cell_type": "code",
   "execution_count": null,
   "metadata": {
    "execution": {
     "iopub.execute_input": "2025-04-05T09:36:23.611851Z",
     "iopub.status.busy": "2025-04-05T09:36:23.611419Z",
     "iopub.status.idle": "2025-04-05T09:36:24.664769Z",
     "shell.execute_reply": "2025-04-05T09:36:24.663836Z",
     "shell.execute_reply.started": "2025-04-05T09:36:23.611820Z"
    }
   },
   "outputs": [],
   "source": [
    "graph('FamilySize')"
   ]
  },
  {
   "cell_type": "code",
   "execution_count": null,
   "metadata": {
    "execution": {
     "iopub.execute_input": "2025-04-05T09:36:24.666261Z",
     "iopub.status.busy": "2025-04-05T09:36:24.665918Z",
     "iopub.status.idle": "2025-04-05T09:36:24.673348Z",
     "shell.execute_reply": "2025-04-05T09:36:24.672224Z",
     "shell.execute_reply.started": "2025-04-05T09:36:24.666233Z"
    }
   },
   "outputs": [],
   "source": [
    "data['IsAlone'] = (data['FamilySize'] == 1).astype(int)\n",
    "data['CabinKnown'] = data['Cabin'].notnull().astype(int)"
   ]
  },
  {
   "cell_type": "code",
   "execution_count": null,
   "metadata": {
    "execution": {
     "iopub.execute_input": "2025-04-05T09:36:24.675516Z",
     "iopub.status.busy": "2025-04-05T09:36:24.675172Z",
     "iopub.status.idle": "2025-04-05T09:36:24.706050Z",
     "shell.execute_reply": "2025-04-05T09:36:24.705088Z",
     "shell.execute_reply.started": "2025-04-05T09:36:24.675489Z"
    }
   },
   "outputs": [],
   "source": [
    "data.head()"
   ]
  },
  {
   "cell_type": "code",
   "execution_count": null,
   "metadata": {
    "execution": {
     "iopub.execute_input": "2025-04-05T09:36:27.490064Z",
     "iopub.status.busy": "2025-04-05T09:36:27.489680Z",
     "iopub.status.idle": "2025-04-05T09:36:27.495698Z",
     "shell.execute_reply": "2025-04-05T09:36:27.494598Z",
     "shell.execute_reply.started": "2025-04-05T09:36:27.490037Z"
    }
   },
   "outputs": [],
   "source": [
    "data[\"Age\"] = data[\"Age\"].fillna(data[\"Age\"].median())"
   ]
  },
  {
   "cell_type": "code",
   "execution_count": null,
   "metadata": {
    "execution": {
     "iopub.execute_input": "2025-04-05T09:36:27.663036Z",
     "iopub.status.busy": "2025-04-05T09:36:27.662682Z",
     "iopub.status.idle": "2025-04-05T09:36:27.671206Z",
     "shell.execute_reply": "2025-04-05T09:36:27.670175Z",
     "shell.execute_reply.started": "2025-04-05T09:36:27.663010Z"
    }
   },
   "outputs": [],
   "source": [
    "def better_age_group(age):\n",
    "    if pd.isnull(age):\n",
    "        return 'Unknown'\n",
    "    elif age <= 12:\n",
    "        return 'Child'\n",
    "    elif age <= 17:\n",
    "        return 'Teenager'\n",
    "    elif age <= 25:\n",
    "        return 'YoungAdult'\n",
    "    elif age <= 40:\n",
    "        return 'Adult'\n",
    "    elif age <= 59:\n",
    "        return 'MidAge'\n",
    "    else:\n",
    "        return 'Senior'\n",
    "\n",
    "data['AgeGroup'] = data['Age'].apply(better_age_group)\n"
   ]
  },
  {
   "cell_type": "markdown",
   "metadata": {},
   "source": [
    "#### 3.****4 checking relation between Survival and AgeGroup****"
   ]
  },
  {
   "cell_type": "code",
   "execution_count": null,
   "metadata": {
    "execution": {
     "iopub.execute_input": "2025-04-05T09:36:28.010317Z",
     "iopub.status.busy": "2025-04-05T09:36:28.009860Z",
     "iopub.status.idle": "2025-04-05T09:36:28.693777Z",
     "shell.execute_reply": "2025-04-05T09:36:28.692577Z",
     "shell.execute_reply.started": "2025-04-05T09:36:28.010228Z"
    }
   },
   "outputs": [],
   "source": [
    "graph('AgeGroup')"
   ]
  },
  {
   "cell_type": "code",
   "execution_count": null,
   "metadata": {
    "execution": {
     "iopub.execute_input": "2025-04-05T09:36:28.695661Z",
     "iopub.status.busy": "2025-04-05T09:36:28.695240Z",
     "iopub.status.idle": "2025-04-05T09:36:28.704602Z",
     "shell.execute_reply": "2025-04-05T09:36:28.703671Z",
     "shell.execute_reply.started": "2025-04-05T09:36:28.695619Z"
    }
   },
   "outputs": [],
   "source": [
    "data.isnull().sum()"
   ]
  },
  {
   "cell_type": "code",
   "execution_count": null,
   "metadata": {
    "execution": {
     "iopub.execute_input": "2025-04-05T09:36:28.706362Z",
     "iopub.status.busy": "2025-04-05T09:36:28.706107Z",
     "iopub.status.idle": "2025-04-05T09:36:28.723898Z",
     "shell.execute_reply": "2025-04-05T09:36:28.722841Z",
     "shell.execute_reply.started": "2025-04-05T09:36:28.706340Z"
    }
   },
   "outputs": [],
   "source": [
    "data['Sex'] = (data['Sex'] == 'male').astype(int)"
   ]
  },
  {
   "cell_type": "code",
   "execution_count": null,
   "metadata": {
    "execution": {
     "iopub.execute_input": "2025-04-05T09:36:28.725515Z",
     "iopub.status.busy": "2025-04-05T09:36:28.725151Z",
     "iopub.status.idle": "2025-04-05T09:36:28.742522Z",
     "shell.execute_reply": "2025-04-05T09:36:28.741451Z",
     "shell.execute_reply.started": "2025-04-05T09:36:28.725479Z"
    }
   },
   "outputs": [],
   "source": [
    "data.Embarked.nunique()"
   ]
  },
  {
   "cell_type": "code",
   "execution_count": null,
   "metadata": {
    "execution": {
     "iopub.execute_input": "2025-04-05T09:36:28.743889Z",
     "iopub.status.busy": "2025-04-05T09:36:28.743480Z",
     "iopub.status.idle": "2025-04-05T09:36:28.762378Z",
     "shell.execute_reply": "2025-04-05T09:36:28.761302Z",
     "shell.execute_reply.started": "2025-04-05T09:36:28.743860Z"
    }
   },
   "outputs": [],
   "source": [
    "data['Deck'] = data['Cabin'].str[0]\n",
    "data['Deck'] = data['Deck'].fillna(0)"
   ]
  },
  {
   "cell_type": "code",
   "execution_count": null,
   "metadata": {
    "execution": {
     "iopub.execute_input": "2025-04-05T09:36:28.801714Z",
     "iopub.status.busy": "2025-04-05T09:36:28.801340Z",
     "iopub.status.idle": "2025-04-05T09:36:28.808712Z",
     "shell.execute_reply": "2025-04-05T09:36:28.807504Z",
     "shell.execute_reply.started": "2025-04-05T09:36:28.801684Z"
    }
   },
   "outputs": [],
   "source": [
    "data['Cabin'] = data['Cabin'].str.extract('(\\d+)', expand=False)\n",
    "data['Cabin'] = data['Cabin'].fillna(0)"
   ]
  },
  {
   "cell_type": "code",
   "execution_count": null,
   "metadata": {
    "execution": {
     "iopub.execute_input": "2025-04-05T09:36:33.712971Z",
     "iopub.status.busy": "2025-04-05T09:36:33.712605Z",
     "iopub.status.idle": "2025-04-05T09:36:33.720153Z",
     "shell.execute_reply": "2025-04-05T09:36:33.719249Z",
     "shell.execute_reply.started": "2025-04-05T09:36:33.712944Z"
    }
   },
   "outputs": [],
   "source": [
    "data['Ticket'] = data['Ticket'].apply(lambda x: ''.join([i for i in x if i.isalpha()]) if any(i.isalpha() for i in x) else '0')"
   ]
  },
  {
   "cell_type": "code",
   "execution_count": null,
   "metadata": {
    "execution": {
     "iopub.execute_input": "2025-04-05T09:36:33.918318Z",
     "iopub.status.busy": "2025-04-05T09:36:33.917969Z",
     "iopub.status.idle": "2025-04-05T09:36:33.937234Z",
     "shell.execute_reply": "2025-04-05T09:36:33.936343Z",
     "shell.execute_reply.started": "2025-04-05T09:36:33.918291Z"
    }
   },
   "outputs": [],
   "source": [
    "data.head()"
   ]
  },
  {
   "cell_type": "code",
   "execution_count": null,
   "metadata": {
    "execution": {
     "iopub.execute_input": "2025-04-05T09:36:34.073293Z",
     "iopub.status.busy": "2025-04-05T09:36:34.072965Z",
     "iopub.status.idle": "2025-04-05T09:36:34.081158Z",
     "shell.execute_reply": "2025-04-05T09:36:34.080259Z",
     "shell.execute_reply.started": "2025-04-05T09:36:34.073268Z"
    }
   },
   "outputs": [],
   "source": [
    "data=data.fillna(0)"
   ]
  },
  {
   "cell_type": "code",
   "execution_count": null,
   "metadata": {
    "execution": {
     "iopub.execute_input": "2025-04-05T09:36:34.242801Z",
     "iopub.status.busy": "2025-04-05T09:36:34.242439Z",
     "iopub.status.idle": "2025-04-05T09:36:34.279473Z",
     "shell.execute_reply": "2025-04-05T09:36:34.278613Z",
     "shell.execute_reply.started": "2025-04-05T09:36:34.242773Z"
    }
   },
   "outputs": [],
   "source": [
    "\n",
    "encoder = OneHotEncoder(sparse_output=False)\n",
    "\n",
    "columns_to_encode = ['Deck', 'Ticket','Embarked','Title','AgeGroup']\n",
    "\n",
    "for column in columns_to_encode:\n",
    "    \n",
    "    data[column] = data[column].astype(str)\n",
    "    \n",
    "    encoded = encoder.fit_transform(data[[column]])\n",
    "    encoded_df = pd.DataFrame(encoded, columns=encoder.get_feature_names_out([column]))\n",
    "    encoded_df = encoded_df.reset_index(drop=True)\n",
    "    data = data.reset_index(drop=True)\n",
    "    data = pd.concat([data, encoded_df], axis=1)\n",
    "    data = data.drop(column, axis=1)\n"
   ]
  },
  {
   "cell_type": "code",
   "execution_count": null,
   "metadata": {
    "execution": {
     "iopub.execute_input": "2025-04-05T09:36:34.430219Z",
     "iopub.status.busy": "2025-04-05T09:36:34.429875Z",
     "iopub.status.idle": "2025-04-05T09:36:34.455250Z",
     "shell.execute_reply": "2025-04-05T09:36:34.454145Z",
     "shell.execute_reply.started": "2025-04-05T09:36:34.430194Z"
    }
   },
   "outputs": [],
   "source": [
    "data.head()"
   ]
  },
  {
   "cell_type": "code",
   "execution_count": null,
   "metadata": {
    "execution": {
     "iopub.execute_input": "2025-04-05T09:36:34.589384Z",
     "iopub.status.busy": "2025-04-05T09:36:34.589052Z",
     "iopub.status.idle": "2025-04-05T09:36:34.595025Z",
     "shell.execute_reply": "2025-04-05T09:36:34.594051Z",
     "shell.execute_reply.started": "2025-04-05T09:36:34.589357Z"
    }
   },
   "outputs": [],
   "source": [
    "data = data.astype(float)"
   ]
  },
  {
   "cell_type": "code",
   "execution_count": null,
   "metadata": {
    "execution": {
     "iopub.execute_input": "2025-04-05T09:36:34.769339Z",
     "iopub.status.busy": "2025-04-05T09:36:34.768972Z",
     "iopub.status.idle": "2025-04-05T09:36:34.777508Z",
     "shell.execute_reply": "2025-04-05T09:36:34.776622Z",
     "shell.execute_reply.started": "2025-04-05T09:36:34.769308Z"
    }
   },
   "outputs": [],
   "source": [
    "data.PassengerId"
   ]
  },
  {
   "cell_type": "code",
   "execution_count": null,
   "metadata": {
    "execution": {
     "iopub.execute_input": "2025-04-05T09:36:34.938128Z",
     "iopub.status.busy": "2025-04-05T09:36:34.937723Z",
     "iopub.status.idle": "2025-04-05T09:36:34.943232Z",
     "shell.execute_reply": "2025-04-05T09:36:34.941838Z",
     "shell.execute_reply.started": "2025-04-05T09:36:34.938099Z"
    }
   },
   "outputs": [],
   "source": [
    "data_to_test = data.iloc[891:]\n",
    "df = data.iloc[:891]"
   ]
  },
  {
   "cell_type": "code",
   "execution_count": null,
   "metadata": {
    "execution": {
     "iopub.execute_input": "2025-04-05T09:36:37.871407Z",
     "iopub.status.busy": "2025-04-05T09:36:37.871039Z",
     "iopub.status.idle": "2025-04-05T09:36:37.879363Z",
     "shell.execute_reply": "2025-04-05T09:36:37.878207Z",
     "shell.execute_reply.started": "2025-04-05T09:36:37.871376Z"
    }
   },
   "outputs": [],
   "source": [
    "df.columns"
   ]
  },
  {
   "cell_type": "markdown",
   "metadata": {},
   "source": [
    "## 4️⃣ **Analysing Data** "
   ]
  },
  {
   "cell_type": "code",
   "execution_count": null,
   "metadata": {
    "execution": {
     "iopub.execute_input": "2025-04-05T09:36:38.301930Z",
     "iopub.status.busy": "2025-04-05T09:36:38.301535Z",
     "iopub.status.idle": "2025-04-05T09:36:38.495149Z",
     "shell.execute_reply": "2025-04-05T09:36:38.494056Z",
     "shell.execute_reply.started": "2025-04-05T09:36:38.301897Z"
    }
   },
   "outputs": [],
   "source": [
    "sns.barplot(x='Pclass', y='Fare', data=df)\n",
    "plt.show()"
   ]
  },
  {
   "cell_type": "code",
   "execution_count": null,
   "metadata": {
    "execution": {
     "iopub.execute_input": "2025-04-05T09:36:38.513185Z",
     "iopub.status.busy": "2025-04-05T09:36:38.512836Z",
     "iopub.status.idle": "2025-04-05T09:36:39.948531Z",
     "shell.execute_reply": "2025-04-05T09:36:39.947456Z",
     "shell.execute_reply.started": "2025-04-05T09:36:38.513159Z"
    }
   },
   "outputs": [],
   "source": [
    "for i in ['Embarked','Pclass','Age','SibSp','Parch','Fare'] :\n",
    "    \n",
    "    sns.histplot(data_train[i], kde=True, color='skyblue')\n",
    "    plt.xlabel(i)\n",
    "    plt.ylabel('Frequency')\n",
    "    plt.legend()\n",
    "    plt.show()"
   ]
  },
  {
   "cell_type": "code",
   "execution_count": null,
   "metadata": {
    "execution": {
     "iopub.execute_input": "2025-04-05T09:36:48.379035Z",
     "iopub.status.busy": "2025-04-05T09:36:48.378653Z",
     "iopub.status.idle": "2025-04-05T09:36:48.506384Z",
     "shell.execute_reply": "2025-04-05T09:36:48.505311Z",
     "shell.execute_reply.started": "2025-04-05T09:36:48.379001Z"
    }
   },
   "outputs": [],
   "source": [
    "sns.countplot(x=data_train['Sex'])\n",
    "plt.xlabel('Sex')\n",
    "plt.ylabel('count')\n",
    "plt.show()"
   ]
  },
  {
   "cell_type": "code",
   "execution_count": null,
   "metadata": {
    "execution": {
     "iopub.execute_input": "2025-04-05T07:43:12.990907Z",
     "iopub.status.busy": "2025-04-05T07:43:12.990525Z",
     "iopub.status.idle": "2025-04-05T07:43:13.319227Z",
     "shell.execute_reply": "2025-04-05T07:43:13.318023Z",
     "shell.execute_reply.started": "2025-04-05T07:43:12.990878Z"
    }
   },
   "outputs": [],
   "source": [
    "sns.heatmap(df[['Survived',\t'Pclass',\t'Sex',\t'Age',\t'SibSp',\t'Parch']].corr(), annot=True, cmap=\"coolwarm\", fmt=\".2f\")\n",
    "plt.title(\"Correlation Heatmap\")\n",
    "plt.show()"
   ]
  },
  {
   "cell_type": "code",
   "execution_count": null,
   "metadata": {
    "execution": {
     "iopub.execute_input": "2025-04-05T07:43:13.320947Z",
     "iopub.status.busy": "2025-04-05T07:43:13.320541Z",
     "iopub.status.idle": "2025-04-05T07:43:14.602113Z",
     "shell.execute_reply": "2025-04-05T07:43:14.601081Z",
     "shell.execute_reply.started": "2025-04-05T07:43:13.320909Z"
    }
   },
   "outputs": [],
   "source": [
    "for i in['Embarked','Pclass','Sex','SibSp','Parch']:\n",
    "    sns.barplot(x=i, y='Survived', data=data_train, color='skyblue')\n",
    "    plt.xlabel(i)\n",
    "    plt.ylabel('Survival Rate')\n",
    "    plt.xticks(rotation=90)\n",
    "    plt.show()"
   ]
  },
  {
   "cell_type": "code",
   "execution_count": null,
   "metadata": {
    "execution": {
     "iopub.execute_input": "2025-04-05T07:43:19.527047Z",
     "iopub.status.busy": "2025-04-05T07:43:19.526687Z",
     "iopub.status.idle": "2025-04-05T07:43:19.537789Z",
     "shell.execute_reply": "2025-04-05T07:43:19.536688Z",
     "shell.execute_reply.started": "2025-04-05T07:43:19.527021Z"
    }
   },
   "outputs": [],
   "source": [
    "(df['Survived'].value_counts())\n"
   ]
  },
  {
   "cell_type": "code",
   "execution_count": null,
   "metadata": {
    "execution": {
     "iopub.execute_input": "2025-04-05T07:43:20.013472Z",
     "iopub.status.busy": "2025-04-05T07:43:20.013128Z",
     "iopub.status.idle": "2025-04-05T07:43:20.019136Z",
     "shell.execute_reply": "2025-04-05T07:43:20.018142Z",
     "shell.execute_reply.started": "2025-04-05T07:43:20.013444Z"
    }
   },
   "outputs": [],
   "source": [
    "X=df.drop(columns='Survived')\n",
    "y=df.Survived"
   ]
  },
  {
   "cell_type": "markdown",
   "metadata": {},
   "source": [
    "## 5️⃣ **Train Test Split** "
   ]
  },
  {
   "cell_type": "code",
   "execution_count": null,
   "metadata": {
    "execution": {
     "iopub.execute_input": "2025-04-05T07:43:20.457852Z",
     "iopub.status.busy": "2025-04-05T07:43:20.457425Z",
     "iopub.status.idle": "2025-04-05T07:43:20.465380Z",
     "shell.execute_reply": "2025-04-05T07:43:20.464437Z",
     "shell.execute_reply.started": "2025-04-05T07:43:20.457819Z"
    }
   },
   "outputs": [],
   "source": [
    "X_train, X_test, y_train, y_test = train_test_split(X, y, test_size=0.2, random_state=42)"
   ]
  },
  {
   "cell_type": "code",
   "execution_count": null,
   "metadata": {
    "execution": {
     "iopub.execute_input": "2025-04-05T07:43:26.462903Z",
     "iopub.status.busy": "2025-04-05T07:43:26.462481Z",
     "iopub.status.idle": "2025-04-05T07:43:26.482598Z",
     "shell.execute_reply": "2025-04-05T07:43:26.481640Z",
     "shell.execute_reply.started": "2025-04-05T07:43:26.462871Z"
    }
   },
   "outputs": [],
   "source": [
    "\n",
    "features_to_scale = ['Age', 'Fare', 'Cabin', 'TicketNumber']\n",
    "\n",
    "scaler = StandardScaler()\n",
    "\n",
    "X_trains = X_train.copy()\n",
    "X_tests= X_test.copy()\n",
    "\n",
    "scaler.fit(X_trains[features_to_scale])\n",
    "\n",
    "\n",
    "X_trains[features_to_scale] = scaler.transform(X_trains[features_to_scale])\n",
    "X_tests[features_to_scale] = scaler.transform(X_tests[features_to_scale])\n",
    "\n",
    "\n",
    "scaler2 = StandardScaler()\n",
    "scaler2.fit(data_to_test[features_to_scale])\n",
    "data_to_test[features_to_scale] = scaler.transform(data_to_test[features_to_scale])\n",
    "\n"
   ]
  },
  {
   "cell_type": "code",
   "execution_count": null,
   "metadata": {
    "execution": {
     "iopub.execute_input": "2025-04-05T07:43:26.941877Z",
     "iopub.status.busy": "2025-04-05T07:43:26.941462Z",
     "iopub.status.idle": "2025-04-05T07:43:26.949661Z",
     "shell.execute_reply": "2025-04-05T07:43:26.948693Z",
     "shell.execute_reply.started": "2025-04-05T07:43:26.941843Z"
    }
   },
   "outputs": [],
   "source": [
    "(y_train.value_counts())\n"
   ]
  },
  {
   "cell_type": "code",
   "execution_count": null,
   "metadata": {
    "execution": {
     "iopub.execute_input": "2025-04-05T07:43:27.420080Z",
     "iopub.status.busy": "2025-04-05T07:43:27.419653Z",
     "iopub.status.idle": "2025-04-05T07:43:28.310237Z",
     "shell.execute_reply": "2025-04-05T07:43:28.309190Z",
     "shell.execute_reply.started": "2025-04-05T07:43:27.420050Z"
    }
   },
   "outputs": [],
   "source": [
    "from imblearn.over_sampling import SMOTE\n",
    "smote = SMOTE()\n",
    "X_resampled, y_resampled = smote.fit_resample(X_trains, y_train)\n",
    "X_trains=X_resampled\n",
    "y_train=y_resampled"
   ]
  },
  {
   "cell_type": "code",
   "execution_count": null,
   "metadata": {
    "execution": {
     "iopub.execute_input": "2025-04-05T07:43:28.312206Z",
     "iopub.status.busy": "2025-04-05T07:43:28.311727Z",
     "iopub.status.idle": "2025-04-05T07:43:28.319538Z",
     "shell.execute_reply": "2025-04-05T07:43:28.318692Z",
     "shell.execute_reply.started": "2025-04-05T07:43:28.312172Z"
    }
   },
   "outputs": [],
   "source": [
    "(y_train.value_counts())\n"
   ]
  },
  {
   "cell_type": "code",
   "execution_count": null,
   "metadata": {
    "execution": {
     "iopub.execute_input": "2025-04-05T07:43:31.057519Z",
     "iopub.status.busy": "2025-04-05T07:43:31.057093Z",
     "iopub.status.idle": "2025-04-05T07:43:31.064074Z",
     "shell.execute_reply": "2025-04-05T07:43:31.063114Z",
     "shell.execute_reply.started": "2025-04-05T07:43:31.057484Z"
    }
   },
   "outputs": [],
   "source": [
    "df.columns"
   ]
  },
  {
   "cell_type": "markdown",
   "metadata": {},
   "source": [
    "## 6️⃣ **Analysis Result** "
   ]
  },
  {
   "cell_type": "markdown",
   "metadata": {},
   "source": [
    " "
   ]
  },
  {
   "cell_type": "markdown",
   "metadata": {},
   "source": [
    "***After analysis we can come into following results :***\n",
    "\n",
    "1. There were more commoner men (Title Mr) in the ship but they had the lowest survival rate .\n",
    "\n",
    "   Women and high class people were more likely to survive.\n",
    "\n",
    "2. There were more people who didn't have their family with them .\n",
    "\n",
    "   But people with FamilySize 4 had more survival rate . Alone persons were quite unlikely to survive\n",
    "\n",
    "3. Most of the people were adults and lowest were seniors . \n",
    "   \n",
    "   Children had the most survival rate and seniors had the lowest .\n",
    "\n",
    "4. Most of the people Embarked from S but people embarked from C were most likely to survive .\n",
    "\n",
    "5. Most of the people were from 3rd class . But they had the lowest survival rate .\n",
    " \n",
    "   Where as firstclass people survived the most .\n",
    "\n",
    "6. Most people had no sibllings,spouch,parents,children with them on board . \n",
    "   But people with 1 sibling/spouch and people with 3 parents/children had most survival rate .\n",
    "\n",
    "7. There were more males on the ship than females but the females had more thandouble survival rate than men .\n",
    "\n",
    "8. In the correlation map we can see the relation between different features .\n"
   ]
  },
  {
   "cell_type": "markdown",
   "metadata": {},
   "source": [
    "## 7️⃣ **Checking different Model Results**\n"
   ]
  },
  {
   "cell_type": "code",
   "execution_count": null,
   "metadata": {
    "execution": {
     "iopub.execute_input": "2025-04-05T07:43:31.368708Z",
     "iopub.status.busy": "2025-04-05T07:43:31.368345Z",
     "iopub.status.idle": "2025-04-05T07:43:35.464911Z",
     "shell.execute_reply": "2025-04-05T07:43:35.463753Z",
     "shell.execute_reply.started": "2025-04-05T07:43:31.368681Z"
    }
   },
   "outputs": [],
   "source": [
    "from sklearn.model_selection import cross_val_score\n",
    "import xgboost as xgb\n",
    "from xgboost import XGBClassifier\n",
    "from sklearn.tree import DecisionTreeClassifier\n",
    "from sklearn.metrics import accuracy_score\n",
    "from sklearn.ensemble import RandomForestClassifier\n",
    "from sklearn.neighbors import KNeighborsClassifier\n",
    "from sklearn.linear_model import LogisticRegression\n",
    "from sklearn.ensemble import GradientBoostingClassifier\n",
    "from sklearn.svm import SVC\n",
    "from lightgbm import LGBMClassifier\n",
    "from catboost import CatBoostClassifier"
   ]
  },
  {
   "cell_type": "code",
   "execution_count": null,
   "metadata": {
    "execution": {
     "iopub.execute_input": "2025-04-05T07:43:35.467119Z",
     "iopub.status.busy": "2025-04-05T07:43:35.466344Z",
     "iopub.status.idle": "2025-04-05T07:43:35.472116Z",
     "shell.execute_reply": "2025-04-05T07:43:35.471057Z",
     "shell.execute_reply.started": "2025-04-05T07:43:35.467086Z"
    }
   },
   "outputs": [],
   "source": [
    "model1=DecisionTreeClassifier()\n",
    "model2=RandomForestClassifier()\n",
    "model3=KNeighborsClassifier(n_neighbors=5)\n",
    "model4= XGBClassifier(use_label_encoder=False, eval_metric='logloss')\n",
    "model5=LogisticRegression(max_iter=1000)\n",
    "model6=GradientBoostingClassifier()\n",
    "model7=SVC()"
   ]
  },
  {
   "cell_type": "code",
   "execution_count": null,
   "metadata": {
    "execution": {
     "iopub.execute_input": "2025-04-05T07:43:35.473653Z",
     "iopub.status.busy": "2025-04-05T07:43:35.473410Z",
     "iopub.status.idle": "2025-04-05T07:43:35.548895Z",
     "shell.execute_reply": "2025-04-05T07:43:35.547852Z",
     "shell.execute_reply.started": "2025-04-05T07:43:35.473631Z"
    }
   },
   "outputs": [],
   "source": [
    "model1.fit(X_trains,y_train)\n"
   ]
  },
  {
   "cell_type": "code",
   "execution_count": null,
   "metadata": {
    "execution": {
     "iopub.execute_input": "2025-04-05T07:43:38.560019Z",
     "iopub.status.busy": "2025-04-05T07:43:38.559605Z",
     "iopub.status.idle": "2025-04-05T07:43:38.805298Z",
     "shell.execute_reply": "2025-04-05T07:43:38.804275Z",
     "shell.execute_reply.started": "2025-04-05T07:43:38.559985Z"
    }
   },
   "outputs": [],
   "source": [
    "model2.fit(X_trains,y_train)"
   ]
  },
  {
   "cell_type": "code",
   "execution_count": null,
   "metadata": {
    "execution": {
     "iopub.execute_input": "2025-04-05T07:43:38.927782Z",
     "iopub.status.busy": "2025-04-05T07:43:38.927373Z",
     "iopub.status.idle": "2025-04-05T07:43:38.941230Z",
     "shell.execute_reply": "2025-04-05T07:43:38.940159Z",
     "shell.execute_reply.started": "2025-04-05T07:43:38.927715Z"
    }
   },
   "outputs": [],
   "source": [
    "model3.fit(X_trains,y_train)\n"
   ]
  },
  {
   "cell_type": "code",
   "execution_count": null,
   "metadata": {
    "execution": {
     "iopub.execute_input": "2025-04-05T07:43:39.332800Z",
     "iopub.status.busy": "2025-04-05T07:43:39.332428Z",
     "iopub.status.idle": "2025-04-05T07:43:39.576102Z",
     "shell.execute_reply": "2025-04-05T07:43:39.574355Z",
     "shell.execute_reply.started": "2025-04-05T07:43:39.332774Z"
    }
   },
   "outputs": [],
   "source": [
    "model4.fit(X_trains, y_train)"
   ]
  },
  {
   "cell_type": "code",
   "execution_count": null,
   "metadata": {
    "execution": {
     "iopub.execute_input": "2025-04-05T07:43:41.717345Z",
     "iopub.status.busy": "2025-04-05T07:43:41.717000Z",
     "iopub.status.idle": "2025-04-05T07:43:42.020254Z",
     "shell.execute_reply": "2025-04-05T07:43:42.019146Z",
     "shell.execute_reply.started": "2025-04-05T07:43:41.717319Z"
    }
   },
   "outputs": [],
   "source": [
    "model5.fit(X_trains, y_train)"
   ]
  },
  {
   "cell_type": "code",
   "execution_count": null,
   "metadata": {
    "execution": {
     "iopub.execute_input": "2025-04-05T07:43:42.050610Z",
     "iopub.status.busy": "2025-04-05T07:43:42.050219Z",
     "iopub.status.idle": "2025-04-05T07:43:42.402928Z",
     "shell.execute_reply": "2025-04-05T07:43:42.401889Z",
     "shell.execute_reply.started": "2025-04-05T07:43:42.050576Z"
    }
   },
   "outputs": [],
   "source": [
    "model6.fit(X_trains, y_train)"
   ]
  },
  {
   "cell_type": "code",
   "execution_count": null,
   "metadata": {
    "execution": {
     "iopub.execute_input": "2025-04-05T07:43:42.475586Z",
     "iopub.status.busy": "2025-04-05T07:43:42.475223Z",
     "iopub.status.idle": "2025-04-05T07:43:42.548992Z",
     "shell.execute_reply": "2025-04-05T07:43:42.547970Z",
     "shell.execute_reply.started": "2025-04-05T07:43:42.475548Z"
    }
   },
   "outputs": [],
   "source": [
    "model7.fit(X_trains, y_train)"
   ]
  },
  {
   "cell_type": "code",
   "execution_count": null,
   "metadata": {
    "execution": {
     "iopub.execute_input": "2025-04-05T07:43:42.716101Z",
     "iopub.status.busy": "2025-04-05T07:43:42.715729Z",
     "iopub.status.idle": "2025-04-05T07:43:42.727205Z",
     "shell.execute_reply": "2025-04-05T07:43:42.726017Z",
     "shell.execute_reply.started": "2025-04-05T07:43:42.716075Z"
    }
   },
   "outputs": [],
   "source": [
    "y_pred=model1.predict(X_tests)\n",
    "accuracy = accuracy_score(y_test, y_pred)\n",
    "accuracy"
   ]
  },
  {
   "cell_type": "code",
   "execution_count": null,
   "metadata": {
    "execution": {
     "iopub.execute_input": "2025-04-05T07:43:45.960135Z",
     "iopub.status.busy": "2025-04-05T07:43:45.959700Z",
     "iopub.status.idle": "2025-04-05T07:43:45.980618Z",
     "shell.execute_reply": "2025-04-05T07:43:45.979568Z",
     "shell.execute_reply.started": "2025-04-05T07:43:45.960101Z"
    }
   },
   "outputs": [],
   "source": [
    "y_pred=model2.predict(X_tests)\n",
    "accuracy = accuracy_score(y_test, y_pred)\n",
    "accuracy"
   ]
  },
  {
   "cell_type": "code",
   "execution_count": null,
   "metadata": {
    "execution": {
     "iopub.execute_input": "2025-04-05T07:43:46.591648Z",
     "iopub.status.busy": "2025-04-05T07:43:46.591266Z",
     "iopub.status.idle": "2025-04-05T07:43:46.618498Z",
     "shell.execute_reply": "2025-04-05T07:43:46.617368Z",
     "shell.execute_reply.started": "2025-04-05T07:43:46.591618Z"
    }
   },
   "outputs": [],
   "source": [
    "y_pred=model3.predict(X_tests)\n",
    "accuracy = accuracy_score(y_test, y_pred)\n",
    "accuracy"
   ]
  },
  {
   "cell_type": "code",
   "execution_count": null,
   "metadata": {
    "execution": {
     "iopub.execute_input": "2025-04-05T07:43:47.176262Z",
     "iopub.status.busy": "2025-04-05T07:43:47.175894Z",
     "iopub.status.idle": "2025-04-05T07:43:47.199655Z",
     "shell.execute_reply": "2025-04-05T07:43:47.197253Z",
     "shell.execute_reply.started": "2025-04-05T07:43:47.176233Z"
    }
   },
   "outputs": [],
   "source": [
    "y_pred=model4.predict(X_tests)\n",
    "accuracy = accuracy_score(y_test, y_pred)\n",
    "accuracy"
   ]
  },
  {
   "cell_type": "code",
   "execution_count": null,
   "metadata": {
    "execution": {
     "iopub.execute_input": "2025-04-05T07:43:49.779979Z",
     "iopub.status.busy": "2025-04-05T07:43:49.779594Z",
     "iopub.status.idle": "2025-04-05T07:43:49.791086Z",
     "shell.execute_reply": "2025-04-05T07:43:49.790006Z",
     "shell.execute_reply.started": "2025-04-05T07:43:49.779948Z"
    }
   },
   "outputs": [],
   "source": [
    "y_pred=model5.predict(X_tests)\n",
    "accuracy = accuracy_score(y_test, y_pred)\n",
    "accuracy"
   ]
  },
  {
   "cell_type": "code",
   "execution_count": null,
   "metadata": {
    "execution": {
     "iopub.execute_input": "2025-04-05T07:43:50.439994Z",
     "iopub.status.busy": "2025-04-05T07:43:50.439618Z",
     "iopub.status.idle": "2025-04-05T07:43:50.451506Z",
     "shell.execute_reply": "2025-04-05T07:43:50.450582Z",
     "shell.execute_reply.started": "2025-04-05T07:43:50.439965Z"
    }
   },
   "outputs": [],
   "source": [
    "y_pred=model6.predict(X_tests)\n",
    "accuracy = accuracy_score(y_test, y_pred)\n",
    "accuracy"
   ]
  },
  {
   "cell_type": "code",
   "execution_count": null,
   "metadata": {
    "execution": {
     "iopub.execute_input": "2025-04-05T07:43:51.110897Z",
     "iopub.status.busy": "2025-04-05T07:43:51.110491Z",
     "iopub.status.idle": "2025-04-05T07:43:51.140138Z",
     "shell.execute_reply": "2025-04-05T07:43:51.139144Z",
     "shell.execute_reply.started": "2025-04-05T07:43:51.110866Z"
    }
   },
   "outputs": [],
   "source": [
    "y_pred=model7.predict(X_tests)\n",
    "accuracy = accuracy_score(y_test, y_pred)\n",
    "accuracy"
   ]
  },
  {
   "cell_type": "code",
   "execution_count": null,
   "metadata": {
    "execution": {
     "iopub.execute_input": "2025-04-05T07:46:51.064924Z",
     "iopub.status.busy": "2025-04-05T07:46:51.064436Z",
     "iopub.status.idle": "2025-04-05T07:46:52.079705Z",
     "shell.execute_reply": "2025-04-05T07:46:52.078754Z",
     "shell.execute_reply.started": "2025-04-05T07:46:51.064893Z"
    }
   },
   "outputs": [],
   "source": [
    "for i in [0.01, 0.1, 1, 10]:\n",
    "    for j in ['liblinear']:\n",
    "        for k in [200, 500, 800,1000]:\n",
    "            model51=LogisticRegression(C=i,solver=j,max_iter=k)\n",
    "            model51.fit(X_trains, y_train)\n",
    "            y_pred=model51.predict(X_tests)\n",
    "            accuracy = accuracy_score(y_test, y_pred)\n",
    "            \n",
    "            scores = cross_val_score(model51, X, y, cv=5)\n",
    "            print(\"Average CV accuracy:\", scores.mean())\n",
    "            print(accuracy)"
   ]
  },
  {
   "cell_type": "code",
   "execution_count": null,
   "metadata": {
    "execution": {
     "iopub.execute_input": "2025-04-05T07:51:44.445405Z",
     "iopub.status.busy": "2025-04-05T07:51:44.445007Z",
     "iopub.status.idle": "2025-04-05T08:10:10.820640Z",
     "shell.execute_reply": "2025-04-05T08:10:10.819641Z",
     "shell.execute_reply.started": "2025-04-05T07:51:44.445372Z"
    }
   },
   "outputs": [],
   "source": [
    "model21 = RandomForestClassifier()\n",
    "for i in [5, 10,12,15]:  # max_depth\n",
    "    for j in [500, 800, 1000,1500,2000]:  # n_estimators\n",
    "        for k in [2, 4, 6,8]:  # min_samples_split\n",
    "            model21 = RandomForestClassifier(max_depth=i, n_estimators=j, min_samples_split=k)\n",
    "            model21.fit(X_trains, y_train)\n",
    "            y_pred = model21.predict(X_tests)\n",
    "            accuracy = accuracy_score(y_test, y_pred)\n",
    "            \n",
    "            scores = cross_val_score(model21, X, y, cv=5)\n",
    "            print(f'dep={i} ; est={j} ; min_split={k}')\n",
    "            print(\"Average CV accuracy:\", scores.mean())\n",
    "            print(\"Test accuracy:\", accuracy)"
   ]
  },
  {
   "cell_type": "code",
   "execution_count": null,
   "metadata": {
    "execution": {
     "iopub.execute_input": "2025-04-05T08:10:10.822630Z",
     "iopub.status.busy": "2025-04-05T08:10:10.822337Z",
     "iopub.status.idle": "2025-04-05T08:15:40.067941Z",
     "shell.execute_reply": "2025-04-05T08:15:40.067007Z",
     "shell.execute_reply.started": "2025-04-05T08:10:10.822606Z"
    }
   },
   "outputs": [],
   "source": [
    "model61=GradientBoostingClassifier()\n",
    "for i in [1, 0.1]:\n",
    "    for j in [500,800,1000]:\n",
    "        for k in [5,6, 7,8]:\n",
    "            model61=GradientBoostingClassifier(learning_rate=i,n_estimators=j,max_depth=k)\n",
    "            model61.fit(X_trains, y_train)\n",
    "            y_pred=model61.predict(X_tests)\n",
    "            accuracy = accuracy_score(y_test, y_pred)\n",
    "            \n",
    "            scores = cross_val_score(model61, X, y, cv=5)\n",
    "            print(f'L={i} ; est={j} ; dep={k}')\n",
    "            print(\"Average CV accuracy:\", scores.mean())\n",
    "            print(accuracy)           "
   ]
  },
  {
   "cell_type": "code",
   "execution_count": null,
   "metadata": {
    "execution": {
     "iopub.execute_input": "2025-04-05T08:17:56.513371Z",
     "iopub.status.busy": "2025-04-05T08:17:56.512930Z",
     "iopub.status.idle": "2025-04-05T08:18:22.653306Z",
     "shell.execute_reply": "2025-04-05T08:18:22.652093Z",
     "shell.execute_reply.started": "2025-04-05T08:17:56.513339Z"
    }
   },
   "outputs": [],
   "source": [
    "for i in range(5):\n",
    "    model02=GradientBoostingClassifier()\n",
    "    model02=GradientBoostingClassifier(learning_rate=1,n_estimators=800,max_depth=7)\n",
    "    model02.fit(X_trains, y_train)\n",
    "    y_pred=model02.predict(X_tests)\n",
    "    accuracy = accuracy_score(y_test, y_pred)\n",
    "    scores = cross_val_score(model02, X, y, cv=5)\n",
    "    print(\"Average CV accuracy:\", scores.mean())\n",
    "    print(accuracy)\n",
    "    i=i+1"
   ]
  },
  {
   "cell_type": "code",
   "execution_count": null,
   "metadata": {
    "execution": {
     "iopub.execute_input": "2025-04-05T08:18:22.655348Z",
     "iopub.status.busy": "2025-04-05T08:18:22.654978Z",
     "iopub.status.idle": "2025-04-05T08:20:30.925199Z",
     "shell.execute_reply": "2025-04-05T08:20:30.923964Z",
     "shell.execute_reply.started": "2025-04-05T08:18:22.655320Z"
    }
   },
   "outputs": [],
   "source": [
    "for i in range(5):\n",
    "    model04=GradientBoostingClassifier()\n",
    "    model04=GradientBoostingClassifier(learning_rate=0.1,n_estimators=1000,max_depth=8)\n",
    "    model04.fit(X_trains, y_train)\n",
    "    y_pred=model04.predict(X_tests)\n",
    "    accuracy = accuracy_score(y_test, y_pred)\n",
    "    scores = cross_val_score(model04, X, y, cv=5)\n",
    "    print(\"Average CV accuracy:\", scores.mean())\n",
    "    print(accuracy)\n",
    "    i=i+1"
   ]
  },
  {
   "cell_type": "code",
   "execution_count": null,
   "metadata": {
    "execution": {
     "iopub.execute_input": "2025-04-05T08:22:24.372637Z",
     "iopub.status.busy": "2025-04-05T08:22:24.372179Z",
     "iopub.status.idle": "2025-04-05T08:22:55.776580Z",
     "shell.execute_reply": "2025-04-05T08:22:55.775664Z",
     "shell.execute_reply.started": "2025-04-05T08:22:24.372605Z"
    }
   },
   "outputs": [],
   "source": [
    "for i in range(5):\n",
    "    model01=RandomForestClassifier()\n",
    "    model01=RandomForestClassifier(max_depth=12, n_estimators=500, min_samples_split=2)\n",
    "    model01.fit(X_trains, y_train)\n",
    "    y_pred=model01.predict(X_tests)\n",
    "    accuracy = accuracy_score(y_test, y_pred)\n",
    "    scores = cross_val_score(model01, X, y, cv=5)\n",
    "    print(\"Average CV accuracy:\", scores.mean())\n",
    "    print(accuracy)\n",
    "    i=i+1"
   ]
  },
  {
   "cell_type": "code",
   "execution_count": null,
   "metadata": {
    "execution": {
     "iopub.execute_input": "2025-04-05T08:34:56.019419Z",
     "iopub.status.busy": "2025-04-05T08:34:56.019060Z",
     "iopub.status.idle": "2025-04-05T08:35:59.954183Z",
     "shell.execute_reply": "2025-04-05T08:35:59.953198Z",
     "shell.execute_reply.started": "2025-04-05T08:34:56.019392Z"
    }
   },
   "outputs": [],
   "source": [
    "for i in range(5):\n",
    "    model03=RandomForestClassifier()\n",
    "    model03=RandomForestClassifier(max_depth=15, n_estimators=1000, min_samples_split=2)\n",
    "    model03.fit(X_trains, y_train)\n",
    "    y_pred=model03.predict(X_tests)\n",
    "    accuracy = accuracy_score(y_test, y_pred)\n",
    "    scores = cross_val_score(model03, X, y, cv=5)\n",
    "    print(\"Average CV accuracy:\", scores.mean())\n",
    "    print(accuracy)\n",
    "    i=i+1"
   ]
  },
  {
   "cell_type": "code",
   "execution_count": null,
   "metadata": {
    "execution": {
     "iopub.execute_input": "2025-04-05T08:26:59.300146Z",
     "iopub.status.busy": "2025-04-05T08:26:59.299678Z",
     "iopub.status.idle": "2025-04-05T08:29:08.187574Z",
     "shell.execute_reply": "2025-04-05T08:29:08.186498Z",
     "shell.execute_reply.started": "2025-04-05T08:26:59.300113Z"
    }
   },
   "outputs": [],
   "source": [
    "for i in range(5):\n",
    "    model05=RandomForestClassifier()\n",
    "    model05=RandomForestClassifier(max_depth=15, n_estimators=2000, min_samples_split=2)\n",
    "    model05.fit(X_trains, y_train)\n",
    "    y_pred=model03.predict(X_tests)\n",
    "    accuracy = accuracy_score(y_test, y_pred)\n",
    "    scores = cross_val_score(model05, X, y, cv=5)\n",
    "    print(\"Average CV accuracy:\", scores.mean())\n",
    "    print(accuracy)\n",
    "    i=i+1"
   ]
  },
  {
   "cell_type": "code",
   "execution_count": null,
   "metadata": {
    "execution": {
     "iopub.execute_input": "2025-04-05T08:40:44.825605Z",
     "iopub.status.busy": "2025-04-05T08:40:44.825293Z",
     "iopub.status.idle": "2025-04-05T08:41:50.672573Z",
     "shell.execute_reply": "2025-04-05T08:41:50.671326Z",
     "shell.execute_reply.started": "2025-04-05T08:40:44.825578Z"
    }
   },
   "outputs": [],
   "source": [
    "for i in range(5):\n",
    "    model06=RandomForestClassifier()\n",
    "    model06=RandomForestClassifier(max_depth=20, n_estimators=1000, min_samples_split=2)\n",
    "    model06.fit(X_trains, y_train)\n",
    "    y_pred=model06.predict(X_tests)\n",
    "    accuracy = accuracy_score(y_test, y_pred)\n",
    "    scores = cross_val_score(model06, X, y, cv=5)\n",
    "    print(\"Average CV accuracy:\", scores.mean())\n",
    "    print(accuracy)\n",
    "    i=i+1"
   ]
  },
  {
   "cell_type": "code",
   "execution_count": null,
   "metadata": {
    "execution": {
     "iopub.execute_input": "2025-04-05T08:33:40.360310Z",
     "iopub.status.busy": "2025-04-05T08:33:40.359905Z",
     "iopub.status.idle": "2025-04-05T08:34:31.771719Z",
     "shell.execute_reply": "2025-04-05T08:34:31.770763Z",
     "shell.execute_reply.started": "2025-04-05T08:33:40.360281Z"
    }
   },
   "outputs": [],
   "source": [
    "for i in range(5):\n",
    "    model07=RandomForestClassifier()\n",
    "    model07=RandomForestClassifier(max_depth=15, n_estimators=800, min_samples_split=2)\n",
    "    model07.fit(X_trains, y_train)\n",
    "    y_pred=model07.predict(X_tests)\n",
    "    accuracy = accuracy_score(y_test, y_pred)\n",
    "    scores = cross_val_score(model07, X, y, cv=5)\n",
    "    print(\"Average CV accuracy:\", scores.mean())\n",
    "    print(accuracy)\n",
    "    i=i+1"
   ]
  },
  {
   "cell_type": "code",
   "execution_count": null,
   "metadata": {
    "execution": {
     "iopub.execute_input": "2025-04-05T08:38:35.555640Z",
     "iopub.status.busy": "2025-04-05T08:38:35.555211Z",
     "iopub.status.idle": "2025-04-05T08:40:44.823616Z",
     "shell.execute_reply": "2025-04-05T08:40:44.822349Z",
     "shell.execute_reply.started": "2025-04-05T08:38:35.555610Z"
    }
   },
   "outputs": [],
   "source": [
    "for i in range(10):\n",
    "    model03=RandomForestClassifier()\n",
    "    model03=RandomForestClassifier(max_depth=15, n_estimators=1000, min_samples_split=2)\n",
    "    model03.fit(X_trains, y_train)\n",
    "    y_pred=model03.predict(X_tests)\n",
    "    accuracy = accuracy_score(y_test, y_pred)\n",
    "    scores = cross_val_score(model03, X, y, cv=5)\n",
    "    print(\"Average CV accuracy:\", scores.mean())\n",
    "    print(accuracy)\n",
    "    i=i+1"
   ]
  },
  {
   "cell_type": "code",
   "execution_count": null,
   "metadata": {
    "execution": {
     "iopub.execute_input": "2025-04-05T08:46:45.794338Z",
     "iopub.status.busy": "2025-04-05T08:46:45.793690Z",
     "iopub.status.idle": "2025-04-05T08:47:48.726968Z",
     "shell.execute_reply": "2025-04-05T08:47:48.725855Z",
     "shell.execute_reply.started": "2025-04-05T08:46:45.794288Z"
    }
   },
   "outputs": [],
   "source": [
    "for i in range(10):\n",
    "    model06=RandomForestClassifier()\n",
    "    model06=RandomForestClassifier(max_depth=12, n_estimators=500, min_samples_split=2)\n",
    "    model06.fit(X_trains, y_train)\n",
    "    y_pred=model06.predict(X_tests)\n",
    "    accuracy = accuracy_score(y_test, y_pred)\n",
    "    scores = cross_val_score(model06, X, y, cv=5)\n",
    "    print(\"Average CV accuracy:\", scores.mean())\n",
    "    print(accuracy)\n",
    "    i=i+1"
   ]
  },
  {
   "cell_type": "markdown",
   "metadata": {},
   "source": [
    "#### ****we can see that model06 gives the best consistant result . so we will use this for our submission****"
   ]
  },
  {
   "cell_type": "code",
   "execution_count": null,
   "metadata": {
    "execution": {
     "iopub.execute_input": "2025-04-05T08:49:59.877164Z",
     "iopub.status.busy": "2025-04-05T08:49:59.876724Z",
     "iopub.status.idle": "2025-04-05T08:49:59.884270Z",
     "shell.execute_reply": "2025-04-05T08:49:59.883154Z",
     "shell.execute_reply.started": "2025-04-05T08:49:59.877135Z"
    }
   },
   "outputs": [],
   "source": [
    "data_to_test=data_to_test.drop(columns='Survived')"
   ]
  },
  {
   "cell_type": "code",
   "execution_count": null,
   "metadata": {
    "execution": {
     "iopub.execute_input": "2025-04-05T08:50:01.548026Z",
     "iopub.status.busy": "2025-04-05T08:50:01.547659Z",
     "iopub.status.idle": "2025-04-05T08:50:01.584677Z",
     "shell.execute_reply": "2025-04-05T08:50:01.583652Z",
     "shell.execute_reply.started": "2025-04-05T08:50:01.548001Z"
    }
   },
   "outputs": [],
   "source": [
    "data_to_test"
   ]
  },
  {
   "cell_type": "code",
   "execution_count": null,
   "metadata": {
    "execution": {
     "iopub.execute_input": "2025-04-05T08:58:29.187535Z",
     "iopub.status.busy": "2025-04-05T08:58:29.187081Z",
     "iopub.status.idle": "2025-04-05T08:58:30.339963Z",
     "shell.execute_reply": "2025-04-05T08:58:30.338846Z",
     "shell.execute_reply.started": "2025-04-05T08:58:29.187499Z"
    }
   },
   "outputs": [],
   "source": [
    "model=RandomForestClassifier()\n",
    "model=RandomForestClassifier(max_depth=12, n_estimators=500, min_samples_split=2)\n",
    "model.fit(X_trains, y_train)\n",
    "y_pred1=model.predict(data_to_test)"
   ]
  },
  {
   "cell_type": "code",
   "execution_count": null,
   "metadata": {
    "execution": {
     "iopub.execute_input": "2025-04-05T09:03:35.458334Z",
     "iopub.status.busy": "2025-04-05T09:03:35.457863Z",
     "iopub.status.idle": "2025-04-05T09:03:35.463921Z",
     "shell.execute_reply": "2025-04-05T09:03:35.462724Z",
     "shell.execute_reply.started": "2025-04-05T09:03:35.458294Z"
    }
   },
   "outputs": [],
   "source": [
    "df = pd.DataFrame(y_pred1, columns=['Survived'])"
   ]
  },
  {
   "cell_type": "code",
   "execution_count": null,
   "metadata": {
    "execution": {
     "iopub.execute_input": "2025-04-05T09:03:35.639852Z",
     "iopub.status.busy": "2025-04-05T09:03:35.639448Z",
     "iopub.status.idle": "2025-04-05T09:03:35.645457Z",
     "shell.execute_reply": "2025-04-05T09:03:35.644411Z",
     "shell.execute_reply.started": "2025-04-05T09:03:35.639820Z"
    }
   },
   "outputs": [],
   "source": [
    "data_to = pd.concat([df, data_test], axis=1)"
   ]
  },
  {
   "cell_type": "code",
   "execution_count": null,
   "metadata": {
    "execution": {
     "iopub.execute_input": "2025-04-05T09:03:35.839386Z",
     "iopub.status.busy": "2025-04-05T09:03:35.838918Z",
     "iopub.status.idle": "2025-04-05T09:03:35.864521Z",
     "shell.execute_reply": "2025-04-05T09:03:35.863190Z",
     "shell.execute_reply.started": "2025-04-05T09:03:35.839338Z"
    }
   },
   "outputs": [],
   "source": [
    "data_to"
   ]
  },
  {
   "cell_type": "code",
   "execution_count": null,
   "metadata": {
    "execution": {
     "iopub.execute_input": "2025-04-05T09:03:36.006314Z",
     "iopub.status.busy": "2025-04-05T09:03:36.005784Z",
     "iopub.status.idle": "2025-04-05T09:03:36.013094Z",
     "shell.execute_reply": "2025-04-05T09:03:36.011516Z",
     "shell.execute_reply.started": "2025-04-05T09:03:36.006253Z"
    }
   },
   "outputs": [],
   "source": [
    "data_to_submit = data_to[[\"Survived\", \"PassengerId\"]]"
   ]
  },
  {
   "cell_type": "code",
   "execution_count": null,
   "metadata": {
    "execution": {
     "iopub.execute_input": "2025-04-05T09:03:36.177555Z",
     "iopub.status.busy": "2025-04-05T09:03:36.177184Z",
     "iopub.status.idle": "2025-04-05T09:03:36.188990Z",
     "shell.execute_reply": "2025-04-05T09:03:36.187773Z",
     "shell.execute_reply.started": "2025-04-05T09:03:36.177528Z"
    }
   },
   "outputs": [],
   "source": [
    "data_to_submit"
   ]
  },
  {
   "cell_type": "markdown",
   "metadata": {},
   "source": [
    "## **Submission**"
   ]
  },
  {
   "cell_type": "code",
   "execution_count": null,
   "metadata": {
    "execution": {
     "iopub.execute_input": "2025-04-05T09:03:36.353055Z",
     "iopub.status.busy": "2025-04-05T09:03:36.352664Z",
     "iopub.status.idle": "2025-04-05T09:03:36.358229Z",
     "shell.execute_reply": "2025-04-05T09:03:36.356783Z",
     "shell.execute_reply.started": "2025-04-05T09:03:36.353027Z"
    }
   },
   "outputs": [],
   "source": [
    "data_to_submit=data_to_submit.astype(int)"
   ]
  },
  {
   "cell_type": "code",
   "execution_count": null,
   "metadata": {
    "execution": {
     "iopub.execute_input": "2025-04-05T09:03:36.501316Z",
     "iopub.status.busy": "2025-04-05T09:03:36.500920Z",
     "iopub.status.idle": "2025-04-05T09:03:36.507184Z",
     "shell.execute_reply": "2025-04-05T09:03:36.505869Z",
     "shell.execute_reply.started": "2025-04-05T09:03:36.501285Z"
    }
   },
   "outputs": [],
   "source": [
    "data_to_submit = data_to_submit[['PassengerId', 'Survived']] "
   ]
  },
  {
   "cell_type": "code",
   "execution_count": null,
   "metadata": {
    "execution": {
     "iopub.execute_input": "2025-04-05T09:03:36.683263Z",
     "iopub.status.busy": "2025-04-05T09:03:36.682800Z",
     "iopub.status.idle": "2025-04-05T09:03:36.693942Z",
     "shell.execute_reply": "2025-04-05T09:03:36.692758Z",
     "shell.execute_reply.started": "2025-04-05T09:03:36.683228Z"
    }
   },
   "outputs": [],
   "source": [
    "data_to_submit"
   ]
  },
  {
   "cell_type": "code",
   "execution_count": null,
   "metadata": {
    "execution": {
     "iopub.execute_input": "2025-04-05T09:03:36.797672Z",
     "iopub.status.busy": "2025-04-05T09:03:36.797222Z",
     "iopub.status.idle": "2025-04-05T09:03:36.804804Z",
     "shell.execute_reply": "2025-04-05T09:03:36.803625Z",
     "shell.execute_reply.started": "2025-04-05T09:03:36.797634Z"
    }
   },
   "outputs": [],
   "source": [
    "data_to_submit.to_csv(\"submissionn.csv\",index=False)"
   ]
  },
  {
   "cell_type": "code",
   "execution_count": null,
   "metadata": {
    "execution": {
     "iopub.execute_input": "2025-04-05T09:01:47.731241Z",
     "iopub.status.busy": "2025-04-05T09:01:47.730893Z",
     "iopub.status.idle": "2025-04-05T09:01:47.737182Z",
     "shell.execute_reply": "2025-04-05T09:01:47.736209Z",
     "shell.execute_reply.started": "2025-04-05T09:01:47.731212Z"
    }
   },
   "outputs": [],
   "source": [
    "import os\n",
    "print(os.listdir())"
   ]
  },
  {
   "cell_type": "code",
   "execution_count": null,
   "metadata": {
    "execution": {
     "iopub.execute_input": "2025-04-05T09:01:47.890202Z",
     "iopub.status.busy": "2025-04-05T09:01:47.889823Z",
     "iopub.status.idle": "2025-04-05T09:01:47.896051Z",
     "shell.execute_reply": "2025-04-05T09:01:47.894978Z",
     "shell.execute_reply.started": "2025-04-05T09:01:47.890172Z"
    }
   },
   "outputs": [],
   "source": [
    "print(data_to_submit.shape)"
   ]
  },
  {
   "cell_type": "code",
   "execution_count": null,
   "metadata": {
    "execution": {
     "iopub.execute_input": "2025-04-05T09:01:48.046537Z",
     "iopub.status.busy": "2025-04-05T09:01:48.046201Z",
     "iopub.status.idle": "2025-04-05T09:01:48.053559Z",
     "shell.execute_reply": "2025-04-05T09:01:48.052382Z",
     "shell.execute_reply.started": "2025-04-05T09:01:48.046512Z"
    }
   },
   "outputs": [],
   "source": [
    "gg=pd.read_csv('/kaggle/working/submissionn.csv')"
   ]
  },
  {
   "cell_type": "code",
   "execution_count": null,
   "metadata": {
    "execution": {
     "iopub.execute_input": "2025-04-05T09:01:48.233159Z",
     "iopub.status.busy": "2025-04-05T09:01:48.232818Z",
     "iopub.status.idle": "2025-04-05T09:01:48.243638Z",
     "shell.execute_reply": "2025-04-05T09:01:48.242343Z",
     "shell.execute_reply.started": "2025-04-05T09:01:48.233134Z"
    }
   },
   "outputs": [],
   "source": [
    "gg"
   ]
  }
 ],
 "metadata": {
  "kaggle": {
   "accelerator": "none",
   "dataSources": [
    {
     "databundleVersionId": 26502,
     "sourceId": 3136,
     "sourceType": "competition"
    }
   ],
   "dockerImageVersionId": 30918,
   "isGpuEnabled": false,
   "isInternetEnabled": true,
   "language": "python",
   "sourceType": "notebook"
  },
  "kernelspec": {
   "display_name": "Python [conda env:base] *",
   "language": "python",
   "name": "conda-base-py"
  },
  "language_info": {
   "codemirror_mode": {
    "name": "ipython",
    "version": 3
   },
   "file_extension": ".py",
   "mimetype": "text/x-python",
   "name": "python",
   "nbconvert_exporter": "python",
   "pygments_lexer": "ipython3",
   "version": "3.12.7"
  }
 },
 "nbformat": 4,
 "nbformat_minor": 4
}
